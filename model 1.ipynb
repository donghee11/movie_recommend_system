{
 "cells": [
  {
   "cell_type": "code",
   "execution_count": 22,
   "metadata": {},
   "outputs": [],
   "source": [
    "from sklearn.linear_model import LinearRegression\n",
    "import numpy as np\n",
    "import pandas as pd\n",
    "import json\n",
    "import matplotlib.pyplot as plt"
   ]
  },
  {
   "cell_type": "markdown",
   "metadata": {},
   "source": [
    "## LOAD Data"
   ]
  },
  {
   "cell_type": "code",
   "execution_count": 23,
   "metadata": {},
   "outputs": [
    {
     "data": {
      "text/html": [
       "<div>\n",
       "<style scoped>\n",
       "    .dataframe tbody tr th:only-of-type {\n",
       "        vertical-align: middle;\n",
       "    }\n",
       "\n",
       "    .dataframe tbody tr th {\n",
       "        vertical-align: top;\n",
       "    }\n",
       "\n",
       "    .dataframe thead th {\n",
       "        text-align: right;\n",
       "    }\n",
       "</style>\n",
       "<table border=\"1\" class=\"dataframe\">\n",
       "  <thead>\n",
       "    <tr style=\"text-align: right;\">\n",
       "      <th></th>\n",
       "      <th>movieID</th>\n",
       "      <th>movieNm</th>\n",
       "      <th>Opendate</th>\n",
       "      <th>매출액</th>\n",
       "      <th>audiAcc</th>\n",
       "      <th>scrnCnt</th>\n",
       "      <th>showCnt</th>\n",
       "      <th>genre</th>\n",
       "      <th>grade</th>\n",
       "      <th>mainAct</th>\n",
       "      <th>rating</th>\n",
       "      <th>director</th>\n",
       "      <th>result</th>\n",
       "    </tr>\n",
       "  </thead>\n",
       "  <tbody>\n",
       "    <tr>\n",
       "      <th>0</th>\n",
       "      <td>1</td>\n",
       "      <td>명량</td>\n",
       "      <td>2014-07-30</td>\n",
       "      <td>1.360000e+11</td>\n",
       "      <td>17615686</td>\n",
       "      <td>1587</td>\n",
       "      <td>188720</td>\n",
       "      <td>1</td>\n",
       "      <td>8.88</td>\n",
       "      <td>5</td>\n",
       "      <td>3</td>\n",
       "      <td>5</td>\n",
       "      <td>3</td>\n",
       "    </tr>\n",
       "    <tr>\n",
       "      <th>1</th>\n",
       "      <td>2</td>\n",
       "      <td>극한직업</td>\n",
       "      <td>2019-01-23</td>\n",
       "      <td>1.400000e+11</td>\n",
       "      <td>16266338</td>\n",
       "      <td>2003</td>\n",
       "      <td>292816</td>\n",
       "      <td>2</td>\n",
       "      <td>9.20</td>\n",
       "      <td>5</td>\n",
       "      <td>3</td>\n",
       "      <td>5</td>\n",
       "      <td>3</td>\n",
       "    </tr>\n",
       "    <tr>\n",
       "      <th>2</th>\n",
       "      <td>3</td>\n",
       "      <td>신과함께-죄와 벌</td>\n",
       "      <td>2017-12-20</td>\n",
       "      <td>1.160000e+11</td>\n",
       "      <td>14411782</td>\n",
       "      <td>1912</td>\n",
       "      <td>213320</td>\n",
       "      <td>6</td>\n",
       "      <td>8.73</td>\n",
       "      <td>5</td>\n",
       "      <td>2</td>\n",
       "      <td>5</td>\n",
       "      <td>3</td>\n",
       "    </tr>\n",
       "    <tr>\n",
       "      <th>3</th>\n",
       "      <td>4</td>\n",
       "      <td>어벤져스: 엔드게임</td>\n",
       "      <td>2019-04-24</td>\n",
       "      <td>1.220000e+11</td>\n",
       "      <td>13977602</td>\n",
       "      <td>2835</td>\n",
       "      <td>246433</td>\n",
       "      <td>1</td>\n",
       "      <td>9.49</td>\n",
       "      <td>5</td>\n",
       "      <td>2</td>\n",
       "      <td>5</td>\n",
       "      <td>3</td>\n",
       "    </tr>\n",
       "    <tr>\n",
       "      <th>4</th>\n",
       "      <td>5</td>\n",
       "      <td>겨울왕국 2</td>\n",
       "      <td>2019-11-21</td>\n",
       "      <td>1.150000e+11</td>\n",
       "      <td>13747792</td>\n",
       "      <td>2648</td>\n",
       "      <td>299334</td>\n",
       "      <td>6</td>\n",
       "      <td>8.95</td>\n",
       "      <td>3</td>\n",
       "      <td>1</td>\n",
       "      <td>5</td>\n",
       "      <td>3</td>\n",
       "    </tr>\n",
       "    <tr>\n",
       "      <th>...</th>\n",
       "      <td>...</td>\n",
       "      <td>...</td>\n",
       "      <td>...</td>\n",
       "      <td>...</td>\n",
       "      <td>...</td>\n",
       "      <td>...</td>\n",
       "      <td>...</td>\n",
       "      <td>...</td>\n",
       "      <td>...</td>\n",
       "      <td>...</td>\n",
       "      <td>...</td>\n",
       "      <td>...</td>\n",
       "      <td>...</td>\n",
       "    </tr>\n",
       "    <tr>\n",
       "      <th>95</th>\n",
       "      <td>96</td>\n",
       "      <td>연평해전</td>\n",
       "      <td>2015-06-24</td>\n",
       "      <td>4.556323e+10</td>\n",
       "      <td>6043784</td>\n",
       "      <td>1013</td>\n",
       "      <td>113767</td>\n",
       "      <td>3</td>\n",
       "      <td>9.14</td>\n",
       "      <td>1</td>\n",
       "      <td>2</td>\n",
       "      <td>1</td>\n",
       "      <td>2</td>\n",
       "    </tr>\n",
       "    <tr>\n",
       "      <th>96</th>\n",
       "      <td>97</td>\n",
       "      <td>드래곤길들이기2</td>\n",
       "      <td>2014-07-23</td>\n",
       "      <td>2.397994e+10</td>\n",
       "      <td>3000056</td>\n",
       "      <td>829</td>\n",
       "      <td>30021</td>\n",
       "      <td>6</td>\n",
       "      <td>9.26</td>\n",
       "      <td>3</td>\n",
       "      <td>1</td>\n",
       "      <td>3</td>\n",
       "      <td>2</td>\n",
       "    </tr>\n",
       "    <tr>\n",
       "      <th>97</th>\n",
       "      <td>98</td>\n",
       "      <td>군도:민란의 시대</td>\n",
       "      <td>2014-07-23</td>\n",
       "      <td>3.698776e+10</td>\n",
       "      <td>4774895</td>\n",
       "      <td>1394</td>\n",
       "      <td>67126</td>\n",
       "      <td>1</td>\n",
       "      <td>7.34</td>\n",
       "      <td>5</td>\n",
       "      <td>3</td>\n",
       "      <td>5</td>\n",
       "      <td>2</td>\n",
       "    </tr>\n",
       "    <tr>\n",
       "      <th>98</th>\n",
       "      <td>99</td>\n",
       "      <td>슬로우비디오</td>\n",
       "      <td>2014-10-02</td>\n",
       "      <td>8.913092e+09</td>\n",
       "      <td>1169562</td>\n",
       "      <td>618</td>\n",
       "      <td>40665</td>\n",
       "      <td>3</td>\n",
       "      <td>7.77</td>\n",
       "      <td>5</td>\n",
       "      <td>2</td>\n",
       "      <td>5</td>\n",
       "      <td>1</td>\n",
       "    </tr>\n",
       "    <tr>\n",
       "      <th>99</th>\n",
       "      <td>100</td>\n",
       "      <td>우아한 거짓말</td>\n",
       "      <td>2014-03-13</td>\n",
       "      <td>1.172736e+10</td>\n",
       "      <td>1618988</td>\n",
       "      <td>555</td>\n",
       "      <td>57442</td>\n",
       "      <td>3</td>\n",
       "      <td>8.23</td>\n",
       "      <td>3</td>\n",
       "      <td>2</td>\n",
       "      <td>5</td>\n",
       "      <td>1</td>\n",
       "    </tr>\n",
       "  </tbody>\n",
       "</table>\n",
       "<p>100 rows × 13 columns</p>\n",
       "</div>"
      ],
      "text/plain": [
       "    movieID     movieNm    Opendate           매출액   audiAcc  scrnCnt  showCnt  \\\n",
       "0         1          명량  2014-07-30  1.360000e+11  17615686     1587   188720   \n",
       "1         2        극한직업  2019-01-23  1.400000e+11  16266338     2003   292816   \n",
       "2         3   신과함께-죄와 벌  2017-12-20  1.160000e+11  14411782     1912   213320   \n",
       "3         4  어벤져스: 엔드게임  2019-04-24  1.220000e+11  13977602     2835   246433   \n",
       "4         5      겨울왕국 2  2019-11-21  1.150000e+11  13747792     2648   299334   \n",
       "..      ...         ...         ...           ...       ...      ...      ...   \n",
       "95       96        연평해전  2015-06-24  4.556323e+10   6043784     1013   113767   \n",
       "96       97    드래곤길들이기2  2014-07-23  2.397994e+10   3000056      829    30021   \n",
       "97       98   군도:민란의 시대  2014-07-23  3.698776e+10   4774895     1394    67126   \n",
       "98       99      슬로우비디오  2014-10-02  8.913092e+09   1169562      618    40665   \n",
       "99      100     우아한 거짓말  2014-03-13  1.172736e+10   1618988      555    57442   \n",
       "\n",
       "    genre  grade  mainAct  rating  director  result  \n",
       "0       1   8.88        5       3         5       3  \n",
       "1       2   9.20        5       3         5       3  \n",
       "2       6   8.73        5       2         5       3  \n",
       "3       1   9.49        5       2         5       3  \n",
       "4       6   8.95        3       1         5       3  \n",
       "..    ...    ...      ...     ...       ...     ...  \n",
       "95      3   9.14        1       2         1       2  \n",
       "96      6   9.26        3       1         3       2  \n",
       "97      1   7.34        5       3         5       2  \n",
       "98      3   7.77        5       2         5       1  \n",
       "99      3   8.23        3       2         5       1  \n",
       "\n",
       "[100 rows x 13 columns]"
      ]
     },
     "execution_count": 23,
     "metadata": {},
     "output_type": "execute_result"
    }
   ],
   "source": [
    "import pandas as pd\n",
    "df1 = pd.read_csv(\"C:/Users/ehdgm/Desktop/movie_data.csv\", encoding = 'utf-8')\n",
    "df1"
   ]
  },
  {
   "cell_type": "code",
   "execution_count": 24,
   "metadata": {},
   "outputs": [],
   "source": [
    "from sklearn.linear_model import LinearRegression"
   ]
  },
  {
   "cell_type": "code",
   "execution_count": 50,
   "metadata": {},
   "outputs": [],
   "source": [
    "from sklearn.model_selection import train_test_split\n",
    "\n",
    "x=df1[['scrnCnt','showCnt', 'grade','mainAct', 'director','genre', 'rating']]\n",
    "y=df1[['audiAcc']]\n",
    "\n",
    "x_train, x_test, y_train, y_test = train_test_split(x, y, train_size=0.7, test_size=0.3)"
   ]
  },
  {
   "cell_type": "code",
   "execution_count": 51,
   "metadata": {},
   "outputs": [
    {
     "data": {
      "text/plain": [
       "LinearRegression()"
      ]
     },
     "execution_count": 51,
     "metadata": {},
     "output_type": "execute_result"
    }
   ],
   "source": [
    "from sklearn.linear_model import LinearRegression\n",
    "\n",
    "mlr=LinearRegression()\n",
    "mlr.fit(x_train, y_train)"
   ]
  },
  {
   "cell_type": "code",
   "execution_count": 52,
   "metadata": {},
   "outputs": [],
   "source": [
    "y_predict=mlr.predict(x_test)"
   ]
  },
  {
   "cell_type": "code",
   "execution_count": 53,
   "metadata": {},
   "outputs": [
    {
     "data": {
      "image/png": "[encoded data removed]",
      "text/plain": [
       "<Figure size 432x288 with 1 Axes>"
      ]
     },
     "metadata": {
      "needs_background": "light"
     },
     "output_type": "display_data"
    }
   ],
   "source": [
    "import matplotlib.pyplot as plt\n",
    "\n",
    "plt.scatter(y_test, y_predict, alpha=0.7)\n",
    "plt.xlabel(\"Actual result\")\n",
    "plt.ylabel(\"Predict result\")\n",
    "plt.title(\"Model1 and Box Office\")\n",
    "plt.show()"
   ]
  },
  {
   "cell_type": "code",
   "execution_count": 54,
   "metadata": {},
   "outputs": [
    {
     "name": "stdout",
     "output_type": "stream",
     "text": [
      "[[5.31011083e+02 4.84491282e+01 5.26306033e+05 1.72265319e+05\n",
      "  2.75839704e+05 1.39023721e+05 3.84048323e+05]]\n"
     ]
    }
   ],
   "source": [
    "print(mlr.coef_)"
   ]
  },
  {
   "cell_type": "code",
   "execution_count": 55,
   "metadata": {},
   "outputs": [
    {
     "data": {
      "image/png": "[encoded data removed]",
      "text/plain": [
       "<Figure size 432x288 with 1 Axes>"
      ]
     },
     "metadata": {
      "needs_background": "light"
     },
     "output_type": "display_data"
    }
   ],
   "source": [
    "plt.scatter(df1[['scrnCnt']], df1[['audiAcc']], alpha=0.7)\n",
    "plt.show()"
   ]
  },
  {
   "cell_type": "code",
   "execution_count": 56,
   "metadata": {},
   "outputs": [
    {
     "data": {
      "image/png": "[encoded data removed]",
      "text/plain": [
       "<Figure size 432x288 with 1 Axes>"
      ]
     },
     "metadata": {
      "needs_background": "light"
     },
     "output_type": "display_data"
    }
   ],
   "source": [
    "plt.scatter(df1[['showCnt']], df1[['audiAcc']], alpha=0.7)\n",
    "plt.show()"
   ]
  },
  {
   "cell_type": "code",
   "execution_count": 57,
   "metadata": {},
   "outputs": [
    {
     "data": {
      "image/png": "[encoded data removed]",
      "text/plain": [
       "<Figure size 432x288 with 1 Axes>"
      ]
     },
     "metadata": {
      "needs_background": "light"
     },
     "output_type": "display_data"
    }
   ],
   "source": [
    "plt.scatter(df1[['grade']], df1[['audiAcc']], alpha=0.7)\n",
    "plt.show()"
   ]
  },
  {
   "cell_type": "code",
   "execution_count": 58,
   "metadata": {},
   "outputs": [
    {
     "data": {
      "image/png": "[encoded data removed]",
      "text/plain": [
       "<Figure size 432x288 with 1 Axes>"
      ]
     },
     "metadata": {
      "needs_background": "light"
     },
     "output_type": "display_data"
    }
   ],
   "source": [
    "plt.scatter(df1[['mainAct']], df1[['audiAcc']], alpha=0.7)\n",
    "plt.show()"
   ]
  },
  {
   "cell_type": "code",
   "execution_count": 59,
   "metadata": {},
   "outputs": [
    {
     "data": {
      "image/png": "[encoded data removed]",
      "text/plain": [
       "<Figure size 432x288 with 1 Axes>"
      ]
     },
     "metadata": {
      "needs_background": "light"
     },
     "output_type": "display_data"
    }
   ],
   "source": [
    "plt.scatter(df1[['director']], df1[['audiAcc']], alpha=0.7)\n",
    "plt.show()"
   ]
  },
  {
   "cell_type": "code",
   "execution_count": 60,
   "metadata": {},
   "outputs": [
    {
     "data": {
      "image/png": "[encoded data removed]",
      "text/plain": [
       "<Figure size 432x288 with 1 Axes>"
      ]
     },
     "metadata": {
      "needs_background": "light"
     },
     "output_type": "display_data"
    }
   ],
   "source": [
    "plt.scatter(df1[['genre']], df1[['audiAcc']], alpha=0.7)\n",
    "plt.show()"
   ]
  },
  {
   "cell_type": "code",
   "execution_count": 61,
   "metadata": {},
   "outputs": [
    {
     "data": {
      "image/png": "[encoded data removed]",
      "text/plain": [
       "<Figure size 432x288 with 1 Axes>"
      ]
     },
     "metadata": {
      "needs_background": "light"
     },
     "output_type": "display_data"
    }
   ],
   "source": [
    "plt.scatter(df1[['rating']], df1[['audiAcc']], alpha=0.7)\n",
    "plt.show()"
   ]
  },
  {
   "cell_type": "code",
   "execution_count": 63,
   "metadata": {},
   "outputs": [
    {
     "name": "stdout",
     "output_type": "stream",
     "text": [
      "0.8133496963147318\n"
     ]
    }
   ],
   "source": [
    "print(mlr.score(x_train,y_train))"
   ]
  },
  {
   "cell_type": "code",
   "execution_count": null,
   "metadata": {},
   "outputs": [],
   "source": []
  }
 ],
 "metadata": {
  "kernelspec": {
   "display_name": "Python 3",
   "language": "python",
   "name": "python3"
  },
  "language_info": {
   "codemirror_mode": {
    "name": "ipython",
    "version": 3
   },
   "file_extension": ".py",
   "mimetype": "text/x-python",
   "name": "python",
   "nbconvert_exporter": "python",
   "pygments_lexer": "ipython3",
   "version": "3.8.5"
  }
 },
 "nbformat": 4,
 "nbformat_minor": 4
}
