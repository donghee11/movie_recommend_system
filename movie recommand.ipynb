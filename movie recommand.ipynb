{
 "cells": [
  {
   "cell_type": "code",
   "execution_count": 13,
   "metadata": {},
   "outputs": [],
   "source": [
    "from sklearn.linear_model import LinearRegression\n",
    "import numpy as np\n",
    "import pandas as pd\n",
    "import json\n",
    "import matplotlib.pyplot as plt"
   ]
  },
  {
   "cell_type": "markdown",
   "metadata": {},
   "source": [
    "## LOAD Data"
   ]
  },
  {
   "cell_type": "code",
   "execution_count": 14,
   "metadata": {},
   "outputs": [
    {
     "data": {
      "text/html": [
       "<div>\n",
       "<style scoped>\n",
       "    .dataframe tbody tr th:only-of-type {\n",
       "        vertical-align: middle;\n",
       "    }\n",
       "\n",
       "    .dataframe tbody tr th {\n",
       "        vertical-align: top;\n",
       "    }\n",
       "\n",
       "    .dataframe thead th {\n",
       "        text-align: right;\n",
       "    }\n",
       "</style>\n",
       "<table border=\"1\" class=\"dataframe\">\n",
       "  <thead>\n",
       "    <tr style=\"text-align: right;\">\n",
       "      <th></th>\n",
       "      <th>movieID</th>\n",
       "      <th>movieNm</th>\n",
       "      <th>Opendate</th>\n",
       "      <th>매출액</th>\n",
       "      <th>audiAcc</th>\n",
       "      <th>scrnCnt</th>\n",
       "      <th>showCnt</th>\n",
       "      <th>genre</th>\n",
       "      <th>grade</th>\n",
       "      <th>mainAct</th>\n",
       "      <th>rating</th>\n",
       "      <th>director</th>\n",
       "      <th>result</th>\n",
       "    </tr>\n",
       "  </thead>\n",
       "  <tbody>\n",
       "    <tr>\n",
       "      <th>0</th>\n",
       "      <td>1</td>\n",
       "      <td>명량</td>\n",
       "      <td>2014-07-30</td>\n",
       "      <td>1.360000e+11</td>\n",
       "      <td>17615686</td>\n",
       "      <td>1587</td>\n",
       "      <td>188720</td>\n",
       "      <td>1</td>\n",
       "      <td>8.88</td>\n",
       "      <td>3</td>\n",
       "      <td>3</td>\n",
       "      <td>3</td>\n",
       "      <td>3</td>\n",
       "    </tr>\n",
       "    <tr>\n",
       "      <th>1</th>\n",
       "      <td>2</td>\n",
       "      <td>극한직업</td>\n",
       "      <td>2019-01-23</td>\n",
       "      <td>1.400000e+11</td>\n",
       "      <td>16266338</td>\n",
       "      <td>2003</td>\n",
       "      <td>292816</td>\n",
       "      <td>2</td>\n",
       "      <td>9.20</td>\n",
       "      <td>3</td>\n",
       "      <td>3</td>\n",
       "      <td>3</td>\n",
       "      <td>3</td>\n",
       "    </tr>\n",
       "    <tr>\n",
       "      <th>2</th>\n",
       "      <td>3</td>\n",
       "      <td>신과함께-죄와 벌</td>\n",
       "      <td>2017-12-20</td>\n",
       "      <td>1.160000e+11</td>\n",
       "      <td>14411782</td>\n",
       "      <td>1912</td>\n",
       "      <td>213320</td>\n",
       "      <td>6</td>\n",
       "      <td>8.73</td>\n",
       "      <td>3</td>\n",
       "      <td>2</td>\n",
       "      <td>3</td>\n",
       "      <td>3</td>\n",
       "    </tr>\n",
       "    <tr>\n",
       "      <th>3</th>\n",
       "      <td>4</td>\n",
       "      <td>어벤져스: 엔드게임</td>\n",
       "      <td>2019-04-24</td>\n",
       "      <td>1.220000e+11</td>\n",
       "      <td>13977602</td>\n",
       "      <td>2835</td>\n",
       "      <td>246433</td>\n",
       "      <td>1</td>\n",
       "      <td>9.49</td>\n",
       "      <td>3</td>\n",
       "      <td>2</td>\n",
       "      <td>3</td>\n",
       "      <td>3</td>\n",
       "    </tr>\n",
       "    <tr>\n",
       "      <th>4</th>\n",
       "      <td>5</td>\n",
       "      <td>겨울왕국 2</td>\n",
       "      <td>2019-11-21</td>\n",
       "      <td>1.150000e+11</td>\n",
       "      <td>13747792</td>\n",
       "      <td>2648</td>\n",
       "      <td>299334</td>\n",
       "      <td>6</td>\n",
       "      <td>8.95</td>\n",
       "      <td>2</td>\n",
       "      <td>1</td>\n",
       "      <td>3</td>\n",
       "      <td>3</td>\n",
       "    </tr>\n",
       "    <tr>\n",
       "      <th>...</th>\n",
       "      <td>...</td>\n",
       "      <td>...</td>\n",
       "      <td>...</td>\n",
       "      <td>...</td>\n",
       "      <td>...</td>\n",
       "      <td>...</td>\n",
       "      <td>...</td>\n",
       "      <td>...</td>\n",
       "      <td>...</td>\n",
       "      <td>...</td>\n",
       "      <td>...</td>\n",
       "      <td>...</td>\n",
       "      <td>...</td>\n",
       "    </tr>\n",
       "    <tr>\n",
       "      <th>70</th>\n",
       "      <td>71</td>\n",
       "      <td>역린</td>\n",
       "      <td>2014-04-30</td>\n",
       "      <td>2.989427e+10</td>\n",
       "      <td>3849552</td>\n",
       "      <td>1054</td>\n",
       "      <td>83296</td>\n",
       "      <td>3</td>\n",
       "      <td>7.43</td>\n",
       "      <td>3</td>\n",
       "      <td>3</td>\n",
       "      <td>2</td>\n",
       "      <td>2</td>\n",
       "    </tr>\n",
       "    <tr>\n",
       "      <th>71</th>\n",
       "      <td>72</td>\n",
       "      <td>끝까지 간다</td>\n",
       "      <td>2014-05-29</td>\n",
       "      <td>2.700730e+10</td>\n",
       "      <td>3450305</td>\n",
       "      <td>645</td>\n",
       "      <td>84875</td>\n",
       "      <td>1</td>\n",
       "      <td>8.83</td>\n",
       "      <td>3</td>\n",
       "      <td>3</td>\n",
       "      <td>3</td>\n",
       "      <td>2</td>\n",
       "    </tr>\n",
       "    <tr>\n",
       "      <th>72</th>\n",
       "      <td>73</td>\n",
       "      <td>피끓는 청춘</td>\n",
       "      <td>2014-01-22</td>\n",
       "      <td>1.168838e+10</td>\n",
       "      <td>1676040</td>\n",
       "      <td>679</td>\n",
       "      <td>36082</td>\n",
       "      <td>2</td>\n",
       "      <td>7.54</td>\n",
       "      <td>2</td>\n",
       "      <td>3</td>\n",
       "      <td>1</td>\n",
       "      <td>1</td>\n",
       "    </tr>\n",
       "    <tr>\n",
       "      <th>73</th>\n",
       "      <td>74</td>\n",
       "      <td>말레피센트</td>\n",
       "      <td>2014-05-29</td>\n",
       "      <td>1.077697e+10</td>\n",
       "      <td>1397526</td>\n",
       "      <td>554</td>\n",
       "      <td>38894</td>\n",
       "      <td>6</td>\n",
       "      <td>8.38</td>\n",
       "      <td>3</td>\n",
       "      <td>2</td>\n",
       "      <td>1</td>\n",
       "      <td>1</td>\n",
       "    </tr>\n",
       "    <tr>\n",
       "      <th>74</th>\n",
       "      <td>75</td>\n",
       "      <td>방황하는 칼날</td>\n",
       "      <td>2014-04-10</td>\n",
       "      <td>7.828892e+09</td>\n",
       "      <td>989906</td>\n",
       "      <td>594</td>\n",
       "      <td>38850</td>\n",
       "      <td>5</td>\n",
       "      <td>7.48</td>\n",
       "      <td>3</td>\n",
       "      <td>4</td>\n",
       "      <td>1</td>\n",
       "      <td>1</td>\n",
       "    </tr>\n",
       "  </tbody>\n",
       "</table>\n",
       "<p>75 rows × 13 columns</p>\n",
       "</div>"
      ],
      "text/plain": [
       "    movieID     movieNm    Opendate           매출액   audiAcc  scrnCnt  showCnt  \\\n",
       "0         1          명량  2014-07-30  1.360000e+11  17615686     1587   188720   \n",
       "1         2        극한직업  2019-01-23  1.400000e+11  16266338     2003   292816   \n",
       "2         3   신과함께-죄와 벌  2017-12-20  1.160000e+11  14411782     1912   213320   \n",
       "3         4  어벤져스: 엔드게임  2019-04-24  1.220000e+11  13977602     2835   246433   \n",
       "4         5      겨울왕국 2  2019-11-21  1.150000e+11  13747792     2648   299334   \n",
       "..      ...         ...         ...           ...       ...      ...      ...   \n",
       "70       71          역린  2014-04-30  2.989427e+10   3849552     1054    83296   \n",
       "71       72      끝까지 간다  2014-05-29  2.700730e+10   3450305      645    84875   \n",
       "72       73      피끓는 청춘  2014-01-22  1.168838e+10   1676040      679    36082   \n",
       "73       74       말레피센트  2014-05-29  1.077697e+10   1397526      554    38894   \n",
       "74       75     방황하는 칼날  2014-04-10  7.828892e+09    989906      594    38850   \n",
       "\n",
       "    genre  grade  mainAct  rating  director  result  \n",
       "0       1   8.88        3       3         3       3  \n",
       "1       2   9.20        3       3         3       3  \n",
       "2       6   8.73        3       2         3       3  \n",
       "3       1   9.49        3       2         3       3  \n",
       "4       6   8.95        2       1         3       3  \n",
       "..    ...    ...      ...     ...       ...     ...  \n",
       "70      3   7.43        3       3         2       2  \n",
       "71      1   8.83        3       3         3       2  \n",
       "72      2   7.54        2       3         1       1  \n",
       "73      6   8.38        3       2         1       1  \n",
       "74      5   7.48        3       4         1       1  \n",
       "\n",
       "[75 rows x 13 columns]"
      ]
     },
     "execution_count": 14,
     "metadata": {},
     "output_type": "execute_result"
    }
   ],
   "source": [
    "import pandas as pd\n",
    "df1 = pd.read_csv(\"C:/Users/ehdgm/Desktop/movie_data.csv\", encoding = 'utf-8')\n",
    "df1"
   ]
  },
  {
   "cell_type": "code",
   "execution_count": 15,
   "metadata": {},
   "outputs": [],
   "source": [
    "from sklearn.linear_model import LinearRegression"
   ]
  },
  {
   "cell_type": "code",
   "execution_count": 16,
   "metadata": {},
   "outputs": [],
   "source": [
    "from sklearn.model_selection import train_test_split\n",
    "\n",
    "x=df1[['scrnCnt', 'showCnt', 'genre', 'grade', 'mainAct', 'rating', 'director']]\n",
    "y=df1[['result']]\n",
    "\n",
    "x_train, x_test, y_train, y_test = train_test_split(x, y, train_size=0.8, test_size=0.2)"
   ]
  },
  {
   "cell_type": "code",
   "execution_count": 17,
   "metadata": {},
   "outputs": [],
   "source": [
    "from sklearn.linear_model import LinearRegression"
   ]
  },
  {
   "cell_type": "code",
   "execution_count": 18,
   "metadata": {},
   "outputs": [],
   "source": [
    "mlr=LinearRegression(fit_intercept=True)"
   ]
  },
  {
   "cell_type": "code",
   "execution_count": 19,
   "metadata": {},
   "outputs": [],
   "source": [
    "mlr=mlr.fit(x_train, y_train)"
   ]
  },
  {
   "cell_type": "code",
   "execution_count": 20,
   "metadata": {},
   "outputs": [],
   "source": [
    "my_code=[[1540, 110439, 1, 8.63, 1, 2, 3]]\n",
    "mypredict=mlr.predict(my_code)"
   ]
  },
  {
   "cell_type": "code",
   "execution_count": 21,
   "metadata": {},
   "outputs": [
    {
     "name": "stdout",
     "output_type": "stream",
     "text": [
      "[[1.65958578]]\n"
     ]
    }
   ],
   "source": [
    "print(mypredict)"
   ]
  },
  {
   "cell_type": "code",
   "execution_count": 22,
   "metadata": {},
   "outputs": [
    {
     "name": "stdout",
     "output_type": "stream",
     "text": [
      "[[2.97136823e-05 7.87352863e-06 1.31858389e-03 1.90503474e-01\n",
      "  2.46440194e-01 2.37933546e-02 1.06120724e-01]]\n"
     ]
    }
   ],
   "source": [
    "print(mlr.coef_)"
   ]
  },
  {
   "cell_type": "code",
   "execution_count": 23,
   "metadata": {},
   "outputs": [
    {
     "name": "stdout",
     "output_type": "stream",
     "text": [
      "[-1.51347056]\n"
     ]
    }
   ],
   "source": [
    "print(mlr.intercept_)"
   ]
  },
  {
   "cell_type": "code",
   "execution_count": null,
   "metadata": {},
   "outputs": [],
   "source": []
  }
 ],
 "metadata": {
  "kernelspec": {
   "display_name": "Python 3",
   "language": "python",
   "name": "python3"
  },
  "language_info": {
   "codemirror_mode": {
    "name": "ipython",
    "version": 3
   },
   "file_extension": ".py",
   "mimetype": "text/x-python",
   "name": "python",
   "nbconvert_exporter": "python",
   "pygments_lexer": "ipython3",
   "version": "3.8.5"
  }
 },
 "nbformat": 4,
 "nbformat_minor": 4
}
